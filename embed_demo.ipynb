{
 "cells": [
  {
   "cell_type": "code",
   "execution_count": null,
   "metadata": {},
   "outputs": [],
   "source": [
    "from llama_index.embeddings.openai import OpenAIEmbedding\n",
    "from sklearn.metrics.pairwise import cosine_similarity\n",
    "import numpy as np\n",
    "\n",
    "# Initialize the OpenAI embedding model\n",
    "embedding_model = OpenAIEmbedding(model=\"text-embedding-ada-002\")"
   ]
  },
  {
   "cell_type": "code",
   "execution_count": null,
   "metadata": {},
   "outputs": [],
   "source": [
    "# Define the trivia questions and matching answers\n",
    "phrases = [\n",
    "    \"Who was the first president of the United States?\",\n",
    "    \"What is the capital city of France?\",\n",
    "    \"In what year did humans first land on the moon?\",\n",
    "    \"Which element on the periodic table has the chemical symbol O?\",\n",
    "    \"What is the largest planet in the solar system?\",\n",
    "    \"The first president of the United States was George Washington.\",\n",
    "    \"The capital city of France is Paris.\",\n",
    "    \"Humans first landed on the moon in the year 1969.\",\n",
    "    \"The chemical symbol O represents the element Oxygen.\",\n",
    "    \"The largest planet in the solar system is Jupiter.\"\n",
    "]\n",
    "\n",
    "# Generate embeddings for each phrase using OpenAI embeddings\n",
    "embeddings = embedding_model.get_text_embedding_batch(phrases)\n"
   ]
  },
  {
   "cell_type": "code",
   "execution_count": null,
   "metadata": {},
   "outputs": [],
   "source": [
    "# Convert embeddings to a numpy array\n",
    "embeddings_array = np.array(embeddings)\n",
    "\n",
    "# Print the first phrase and the first several elements of its embedding\n",
    "print(f\"Phrase: {phrases[0]}\")\n",
    "print(f\"First 5 elements of its embedding: {embeddings_array[0][:5]}\\n\")\n",
    "\n",
    "# Compute cosine similarity between the embeddings\n",
    "similarity_matrix = cosine_similarity(embeddings_array)\n",
    "\n",
    "# Print the cosine similarity matrix\n",
    "print(\"Cosine Similarity Matrix:\")\n",
    "print(np.round(similarity_matrix, 2))\n",
    "print(\"\\nDetailed Similarity Results:\\n\")\n",
    "\n",
    "# Output comparison between phrases with improved readability\n",
    "for i in range(len(phrases)):\n",
    "    for j in range(i + 1, len(phrases)):\n",
    "        print(f\"Cosine similarity between:\\n  '{phrases[i]}'\\n  and\\n  '{phrases[j]}'\\n  => {similarity_matrix[i, j]:.4f}\\n\")"
   ]
  }
 ],
 "metadata": {
  "kernelspec": {
   "display_name": "Python 3.11.1 ('.venv': venv)",
   "language": "python",
   "name": "python3"
  },
  "language_info": {
   "name": "python",
   "version": "3.11.1"
  },
  "orig_nbformat": 4,
  "vscode": {
   "interpreter": {
    "hash": "3212d0bfa2d5e323371975ed7614dffb19184c0711379dc5f0213552f731b223"
   }
  }
 },
 "nbformat": 4,
 "nbformat_minor": 2
}
