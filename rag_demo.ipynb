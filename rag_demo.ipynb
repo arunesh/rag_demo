{
 "cells": [
  {
   "cell_type": "code",
   "execution_count": 1,
   "id": "05d9ad1c-a43b-4a83-9e8c-78cdb023897e",
   "metadata": {},
   "outputs": [
    {
     "name": "stdout",
     "output_type": "stream",
     "text": [
      "{'page_label': '1', 'file_name': 'CodePath strategic plan.pdf', 'file_path': '/Users/arunesh/github/codepath/lab2/rag_demo/data/CodePath strategic plan.pdf', 'file_type': 'application/pdf', 'file_size': 1452743, 'creation_date': '2024-09-21', 'last_modified_date': '2024-09-16'}\n",
      "{'page_label': '2', 'file_name': 'CodePath strategic plan.pdf', 'file_path': '/Users/arunesh/github/codepath/lab2/rag_demo/data/CodePath strategic plan.pdf', 'file_type': 'application/pdf', 'file_size': 1452743, 'creation_date': '2024-09-21', 'last_modified_date': '2024-09-16'}\n",
      "{'page_label': '3', 'file_name': 'CodePath strategic plan.pdf', 'file_path': '/Users/arunesh/github/codepath/lab2/rag_demo/data/CodePath strategic plan.pdf', 'file_type': 'application/pdf', 'file_size': 1452743, 'creation_date': '2024-09-21', 'last_modified_date': '2024-09-16'}\n",
      "{'page_label': '4', 'file_name': 'CodePath strategic plan.pdf', 'file_path': '/Users/arunesh/github/codepath/lab2/rag_demo/data/CodePath strategic plan.pdf', 'file_type': 'application/pdf', 'file_size': 1452743, 'creation_date': '2024-09-21', 'last_modified_date': '2024-09-16'}\n",
      "{'page_label': '5', 'file_name': 'CodePath strategic plan.pdf', 'file_path': '/Users/arunesh/github/codepath/lab2/rag_demo/data/CodePath strategic plan.pdf', 'file_type': 'application/pdf', 'file_size': 1452743, 'creation_date': '2024-09-21', 'last_modified_date': '2024-09-16'}\n",
      "{'page_label': '6', 'file_name': 'CodePath strategic plan.pdf', 'file_path': '/Users/arunesh/github/codepath/lab2/rag_demo/data/CodePath strategic plan.pdf', 'file_type': 'application/pdf', 'file_size': 1452743, 'creation_date': '2024-09-21', 'last_modified_date': '2024-09-16'}\n",
      "{'page_label': '7', 'file_name': 'CodePath strategic plan.pdf', 'file_path': '/Users/arunesh/github/codepath/lab2/rag_demo/data/CodePath strategic plan.pdf', 'file_type': 'application/pdf', 'file_size': 1452743, 'creation_date': '2024-09-21', 'last_modified_date': '2024-09-16'}\n",
      "{'page_label': '8', 'file_name': 'CodePath strategic plan.pdf', 'file_path': '/Users/arunesh/github/codepath/lab2/rag_demo/data/CodePath strategic plan.pdf', 'file_type': 'application/pdf', 'file_size': 1452743, 'creation_date': '2024-09-21', 'last_modified_date': '2024-09-16'}\n",
      "{'page_label': '9', 'file_name': 'CodePath strategic plan.pdf', 'file_path': '/Users/arunesh/github/codepath/lab2/rag_demo/data/CodePath strategic plan.pdf', 'file_type': 'application/pdf', 'file_size': 1452743, 'creation_date': '2024-09-21', 'last_modified_date': '2024-09-16'}\n",
      "{'page_label': '10', 'file_name': 'CodePath strategic plan.pdf', 'file_path': '/Users/arunesh/github/codepath/lab2/rag_demo/data/CodePath strategic plan.pdf', 'file_type': 'application/pdf', 'file_size': 1452743, 'creation_date': '2024-09-21', 'last_modified_date': '2024-09-16'}\n",
      "{'page_label': '11', 'file_name': 'CodePath strategic plan.pdf', 'file_path': '/Users/arunesh/github/codepath/lab2/rag_demo/data/CodePath strategic plan.pdf', 'file_type': 'application/pdf', 'file_size': 1452743, 'creation_date': '2024-09-21', 'last_modified_date': '2024-09-16'}\n",
      "{'page_label': '12', 'file_name': 'CodePath strategic plan.pdf', 'file_path': '/Users/arunesh/github/codepath/lab2/rag_demo/data/CodePath strategic plan.pdf', 'file_type': 'application/pdf', 'file_size': 1452743, 'creation_date': '2024-09-21', 'last_modified_date': '2024-09-16'}\n",
      "{'page_label': '13', 'file_name': 'CodePath strategic plan.pdf', 'file_path': '/Users/arunesh/github/codepath/lab2/rag_demo/data/CodePath strategic plan.pdf', 'file_type': 'application/pdf', 'file_size': 1452743, 'creation_date': '2024-09-21', 'last_modified_date': '2024-09-16'}\n",
      "{'page_label': '14', 'file_name': 'CodePath strategic plan.pdf', 'file_path': '/Users/arunesh/github/codepath/lab2/rag_demo/data/CodePath strategic plan.pdf', 'file_type': 'application/pdf', 'file_size': 1452743, 'creation_date': '2024-09-21', 'last_modified_date': '2024-09-16'}\n",
      "{'page_label': '15', 'file_name': 'CodePath strategic plan.pdf', 'file_path': '/Users/arunesh/github/codepath/lab2/rag_demo/data/CodePath strategic plan.pdf', 'file_type': 'application/pdf', 'file_size': 1452743, 'creation_date': '2024-09-21', 'last_modified_date': '2024-09-16'}\n",
      "{'page_label': '16', 'file_name': 'CodePath strategic plan.pdf', 'file_path': '/Users/arunesh/github/codepath/lab2/rag_demo/data/CodePath strategic plan.pdf', 'file_type': 'application/pdf', 'file_size': 1452743, 'creation_date': '2024-09-21', 'last_modified_date': '2024-09-16'}\n",
      "{'page_label': '17', 'file_name': 'CodePath strategic plan.pdf', 'file_path': '/Users/arunesh/github/codepath/lab2/rag_demo/data/CodePath strategic plan.pdf', 'file_type': 'application/pdf', 'file_size': 1452743, 'creation_date': '2024-09-21', 'last_modified_date': '2024-09-16'}\n",
      "{'page_label': '18', 'file_name': 'CodePath strategic plan.pdf', 'file_path': '/Users/arunesh/github/codepath/lab2/rag_demo/data/CodePath strategic plan.pdf', 'file_type': 'application/pdf', 'file_size': 1452743, 'creation_date': '2024-09-21', 'last_modified_date': '2024-09-16'}\n",
      "{'page_label': '19', 'file_name': 'CodePath strategic plan.pdf', 'file_path': '/Users/arunesh/github/codepath/lab2/rag_demo/data/CodePath strategic plan.pdf', 'file_type': 'application/pdf', 'file_size': 1452743, 'creation_date': '2024-09-21', 'last_modified_date': '2024-09-16'}\n",
      "{'page_label': '20', 'file_name': 'CodePath strategic plan.pdf', 'file_path': '/Users/arunesh/github/codepath/lab2/rag_demo/data/CodePath strategic plan.pdf', 'file_type': 'application/pdf', 'file_size': 1452743, 'creation_date': '2024-09-21', 'last_modified_date': '2024-09-16'}\n",
      "{'page_label': '21', 'file_name': 'CodePath strategic plan.pdf', 'file_path': '/Users/arunesh/github/codepath/lab2/rag_demo/data/CodePath strategic plan.pdf', 'file_type': 'application/pdf', 'file_size': 1452743, 'creation_date': '2024-09-21', 'last_modified_date': '2024-09-16'}\n",
      "{'page_label': '22', 'file_name': 'CodePath strategic plan.pdf', 'file_path': '/Users/arunesh/github/codepath/lab2/rag_demo/data/CodePath strategic plan.pdf', 'file_type': 'application/pdf', 'file_size': 1452743, 'creation_date': '2024-09-21', 'last_modified_date': '2024-09-16'}\n",
      "{'page_label': '23', 'file_name': 'CodePath strategic plan.pdf', 'file_path': '/Users/arunesh/github/codepath/lab2/rag_demo/data/CodePath strategic plan.pdf', 'file_type': 'application/pdf', 'file_size': 1452743, 'creation_date': '2024-09-21', 'last_modified_date': '2024-09-16'}\n",
      "{'page_label': '24', 'file_name': 'CodePath strategic plan.pdf', 'file_path': '/Users/arunesh/github/codepath/lab2/rag_demo/data/CodePath strategic plan.pdf', 'file_type': 'application/pdf', 'file_size': 1452743, 'creation_date': '2024-09-21', 'last_modified_date': '2024-09-16'}\n",
      "{'page_label': '25', 'file_name': 'CodePath strategic plan.pdf', 'file_path': '/Users/arunesh/github/codepath/lab2/rag_demo/data/CodePath strategic plan.pdf', 'file_type': 'application/pdf', 'file_size': 1452743, 'creation_date': '2024-09-21', 'last_modified_date': '2024-09-16'}\n",
      "{'page_label': '26', 'file_name': 'CodePath strategic plan.pdf', 'file_path': '/Users/arunesh/github/codepath/lab2/rag_demo/data/CodePath strategic plan.pdf', 'file_type': 'application/pdf', 'file_size': 1452743, 'creation_date': '2024-09-21', 'last_modified_date': '2024-09-16'}\n",
      "{'page_label': '27', 'file_name': 'CodePath strategic plan.pdf', 'file_path': '/Users/arunesh/github/codepath/lab2/rag_demo/data/CodePath strategic plan.pdf', 'file_type': 'application/pdf', 'file_size': 1452743, 'creation_date': '2024-09-21', 'last_modified_date': '2024-09-16'}\n",
      "{'page_label': '28', 'file_name': 'CodePath strategic plan.pdf', 'file_path': '/Users/arunesh/github/codepath/lab2/rag_demo/data/CodePath strategic plan.pdf', 'file_type': 'application/pdf', 'file_size': 1452743, 'creation_date': '2024-09-21', 'last_modified_date': '2024-09-16'}\n",
      "{'page_label': '29', 'file_name': 'CodePath strategic plan.pdf', 'file_path': '/Users/arunesh/github/codepath/lab2/rag_demo/data/CodePath strategic plan.pdf', 'file_type': 'application/pdf', 'file_size': 1452743, 'creation_date': '2024-09-21', 'last_modified_date': '2024-09-16'}\n",
      "{'page_label': '30', 'file_name': 'CodePath strategic plan.pdf', 'file_path': '/Users/arunesh/github/codepath/lab2/rag_demo/data/CodePath strategic plan.pdf', 'file_type': 'application/pdf', 'file_size': 1452743, 'creation_date': '2024-09-21', 'last_modified_date': '2024-09-16'}\n",
      "{'page_label': '31', 'file_name': 'CodePath strategic plan.pdf', 'file_path': '/Users/arunesh/github/codepath/lab2/rag_demo/data/CodePath strategic plan.pdf', 'file_type': 'application/pdf', 'file_size': 1452743, 'creation_date': '2024-09-21', 'last_modified_date': '2024-09-16'}\n",
      "{'page_label': '32', 'file_name': 'CodePath strategic plan.pdf', 'file_path': '/Users/arunesh/github/codepath/lab2/rag_demo/data/CodePath strategic plan.pdf', 'file_type': 'application/pdf', 'file_size': 1452743, 'creation_date': '2024-09-21', 'last_modified_date': '2024-09-16'}\n",
      "{'page_label': '33', 'file_name': 'CodePath strategic plan.pdf', 'file_path': '/Users/arunesh/github/codepath/lab2/rag_demo/data/CodePath strategic plan.pdf', 'file_type': 'application/pdf', 'file_size': 1452743, 'creation_date': '2024-09-21', 'last_modified_date': '2024-09-16'}\n",
      "{'page_label': '34', 'file_name': 'CodePath strategic plan.pdf', 'file_path': '/Users/arunesh/github/codepath/lab2/rag_demo/data/CodePath strategic plan.pdf', 'file_type': 'application/pdf', 'file_size': 1452743, 'creation_date': '2024-09-21', 'last_modified_date': '2024-09-16'}\n",
      "{'page_label': '35', 'file_name': 'CodePath strategic plan.pdf', 'file_path': '/Users/arunesh/github/codepath/lab2/rag_demo/data/CodePath strategic plan.pdf', 'file_type': 'application/pdf', 'file_size': 1452743, 'creation_date': '2024-09-21', 'last_modified_date': '2024-09-16'}\n",
      "{'page_label': '36', 'file_name': 'CodePath strategic plan.pdf', 'file_path': '/Users/arunesh/github/codepath/lab2/rag_demo/data/CodePath strategic plan.pdf', 'file_type': 'application/pdf', 'file_size': 1452743, 'creation_date': '2024-09-21', 'last_modified_date': '2024-09-16'}\n",
      "{'page_label': '37', 'file_name': 'CodePath strategic plan.pdf', 'file_path': '/Users/arunesh/github/codepath/lab2/rag_demo/data/CodePath strategic plan.pdf', 'file_type': 'application/pdf', 'file_size': 1452743, 'creation_date': '2024-09-21', 'last_modified_date': '2024-09-16'}\n",
      "{'page_label': '38', 'file_name': 'CodePath strategic plan.pdf', 'file_path': '/Users/arunesh/github/codepath/lab2/rag_demo/data/CodePath strategic plan.pdf', 'file_type': 'application/pdf', 'file_size': 1452743, 'creation_date': '2024-09-21', 'last_modified_date': '2024-09-16'}\n",
      "{'page_label': '39', 'file_name': 'CodePath strategic plan.pdf', 'file_path': '/Users/arunesh/github/codepath/lab2/rag_demo/data/CodePath strategic plan.pdf', 'file_type': 'application/pdf', 'file_size': 1452743, 'creation_date': '2024-09-21', 'last_modified_date': '2024-09-16'}\n",
      "{'page_label': '40', 'file_name': 'CodePath strategic plan.pdf', 'file_path': '/Users/arunesh/github/codepath/lab2/rag_demo/data/CodePath strategic plan.pdf', 'file_type': 'application/pdf', 'file_size': 1452743, 'creation_date': '2024-09-21', 'last_modified_date': '2024-09-16'}\n",
      "{'page_label': '41', 'file_name': 'CodePath strategic plan.pdf', 'file_path': '/Users/arunesh/github/codepath/lab2/rag_demo/data/CodePath strategic plan.pdf', 'file_type': 'application/pdf', 'file_size': 1452743, 'creation_date': '2024-09-21', 'last_modified_date': '2024-09-16'}\n",
      "{'page_label': '42', 'file_name': 'CodePath strategic plan.pdf', 'file_path': '/Users/arunesh/github/codepath/lab2/rag_demo/data/CodePath strategic plan.pdf', 'file_type': 'application/pdf', 'file_size': 1452743, 'creation_date': '2024-09-21', 'last_modified_date': '2024-09-16'}\n",
      "{'page_label': '43', 'file_name': 'CodePath strategic plan.pdf', 'file_path': '/Users/arunesh/github/codepath/lab2/rag_demo/data/CodePath strategic plan.pdf', 'file_type': 'application/pdf', 'file_size': 1452743, 'creation_date': '2024-09-21', 'last_modified_date': '2024-09-16'}\n",
      "{'page_label': '44', 'file_name': 'CodePath strategic plan.pdf', 'file_path': '/Users/arunesh/github/codepath/lab2/rag_demo/data/CodePath strategic plan.pdf', 'file_type': 'application/pdf', 'file_size': 1452743, 'creation_date': '2024-09-21', 'last_modified_date': '2024-09-16'}\n",
      "{'page_label': '45', 'file_name': 'CodePath strategic plan.pdf', 'file_path': '/Users/arunesh/github/codepath/lab2/rag_demo/data/CodePath strategic plan.pdf', 'file_type': 'application/pdf', 'file_size': 1452743, 'creation_date': '2024-09-21', 'last_modified_date': '2024-09-16'}\n",
      "{'page_label': '46', 'file_name': 'CodePath strategic plan.pdf', 'file_path': '/Users/arunesh/github/codepath/lab2/rag_demo/data/CodePath strategic plan.pdf', 'file_type': 'application/pdf', 'file_size': 1452743, 'creation_date': '2024-09-21', 'last_modified_date': '2024-09-16'}\n",
      "{'page_label': '47', 'file_name': 'CodePath strategic plan.pdf', 'file_path': '/Users/arunesh/github/codepath/lab2/rag_demo/data/CodePath strategic plan.pdf', 'file_type': 'application/pdf', 'file_size': 1452743, 'creation_date': '2024-09-21', 'last_modified_date': '2024-09-16'}\n",
      "{'page_label': '48', 'file_name': 'CodePath strategic plan.pdf', 'file_path': '/Users/arunesh/github/codepath/lab2/rag_demo/data/CodePath strategic plan.pdf', 'file_type': 'application/pdf', 'file_size': 1452743, 'creation_date': '2024-09-21', 'last_modified_date': '2024-09-16'}\n",
      "{'page_label': '49', 'file_name': 'CodePath strategic plan.pdf', 'file_path': '/Users/arunesh/github/codepath/lab2/rag_demo/data/CodePath strategic plan.pdf', 'file_type': 'application/pdf', 'file_size': 1452743, 'creation_date': '2024-09-21', 'last_modified_date': '2024-09-16'}\n",
      "{'page_label': '50', 'file_name': 'CodePath strategic plan.pdf', 'file_path': '/Users/arunesh/github/codepath/lab2/rag_demo/data/CodePath strategic plan.pdf', 'file_type': 'application/pdf', 'file_size': 1452743, 'creation_date': '2024-09-21', 'last_modified_date': '2024-09-16'}\n",
      "{'page_label': '51', 'file_name': 'CodePath strategic plan.pdf', 'file_path': '/Users/arunesh/github/codepath/lab2/rag_demo/data/CodePath strategic plan.pdf', 'file_type': 'application/pdf', 'file_size': 1452743, 'creation_date': '2024-09-21', 'last_modified_date': '2024-09-16'}\n",
      "{'page_label': '52', 'file_name': 'CodePath strategic plan.pdf', 'file_path': '/Users/arunesh/github/codepath/lab2/rag_demo/data/CodePath strategic plan.pdf', 'file_type': 'application/pdf', 'file_size': 1452743, 'creation_date': '2024-09-21', 'last_modified_date': '2024-09-16'}\n",
      "{'page_label': '53', 'file_name': 'CodePath strategic plan.pdf', 'file_path': '/Users/arunesh/github/codepath/lab2/rag_demo/data/CodePath strategic plan.pdf', 'file_type': 'application/pdf', 'file_size': 1452743, 'creation_date': '2024-09-21', 'last_modified_date': '2024-09-16'}\n",
      "{'page_label': '54', 'file_name': 'CodePath strategic plan.pdf', 'file_path': '/Users/arunesh/github/codepath/lab2/rag_demo/data/CodePath strategic plan.pdf', 'file_type': 'application/pdf', 'file_size': 1452743, 'creation_date': '2024-09-21', 'last_modified_date': '2024-09-16'}\n"
     ]
    }
   ],
   "source": [
    "# Import necessary libraries\n",
    "from dotenv import load_dotenv\n",
    "from llama_index.core import VectorStoreIndex, SimpleDirectoryReader\n",
    "\n",
    "# Load environment variables\n",
    "load_dotenv()\n",
    "\n",
    "# Load documents from a directory (you can change this path as needed)\n",
    "documents = SimpleDirectoryReader(\"data\").load_data()\n",
    "\n",
    "for x in documents:\n",
    "    print(x.metadata)\n",
    "\n"
   ]
  },
  {
   "cell_type": "code",
   "execution_count": 2,
   "id": "6dea4e30-b2c7-4719-9a2c-c446421e2a32",
   "metadata": {},
   "outputs": [
    {
     "name": "stdout",
     "output_type": "stream",
     "text": [
      "The strategic plan covers the years 2024 to 2028.\n"
     ]
    }
   ],
   "source": [
    "    \n",
    "# Create an index from the documents\n",
    "index = VectorStoreIndex.from_documents(documents)\n",
    "\n",
    "# Create a query engine\n",
    "query_engine = index.as_query_engine()\n",
    "\n",
    "# Example query\n",
    "response = query_engine.query(\"What years does the strategic plan cover?\")\n",
    "\n",
    "print(response)"
   ]
  },
  {
   "cell_type": "code",
   "execution_count": 4,
   "id": "583d3450-8e43-4290-a7f1-ad52b451bcc9",
   "metadata": {},
   "outputs": [
    {
     "name": "stdout",
     "output_type": "stream",
     "text": [
      "The document is the CodePath 2024-28 Strategic Plan, which outlines the organization's goals and strategies for the next few years. It includes pillars focusing on scaling nationally and regionally, improving effectiveness while reducing costs, and developing sustainable revenue sources. The plan also emphasizes measurement, evaluation, and learning, as well as financial and organizational considerations. Additionally, there is an appendix detailing the CodePath Theory of Change.\n"
     ]
    }
   ],
   "source": [
    "print(query_engine.query(\"Summarize the document\"))"
   ]
  },
  {
   "cell_type": "code",
   "execution_count": 5,
   "id": "18740be4-d4f7-47ac-8ef6-097e14c08fb5",
   "metadata": {},
   "outputs": [
    {
     "name": "stdout",
     "output_type": "stream",
     "text": [
      "The document contains various appendices covering topics such as leadership, founding principles, theory of change, revenue sources, partnerships, regional expansion, and finance charts, providing a comprehensive overview of CodePath's strategic plan.\n"
     ]
    }
   ],
   "source": [
    "query=input()\n",
    "print(query_engine.query(query))"
   ]
  },
  {
   "cell_type": "code",
   "execution_count": null,
   "id": "0d9bebab-e4bc-4b35-8e63-e21f1128d51c",
   "metadata": {},
   "outputs": [],
   "source": []
  }
 ],
 "metadata": {
  "kernelspec": {
   "display_name": "Python 3 (ipykernel)",
   "language": "python",
   "name": "python3"
  },
  "language_info": {
   "codemirror_mode": {
    "name": "ipython",
    "version": 3
   },
   "file_extension": ".py",
   "mimetype": "text/x-python",
   "name": "python",
   "nbconvert_exporter": "python",
   "pygments_lexer": "ipython3",
   "version": "3.11.1"
  },
  "vscode": {
   "interpreter": {
    "hash": "3212d0bfa2d5e323371975ed7614dffb19184c0711379dc5f0213552f731b223"
   }
  }
 },
 "nbformat": 4,
 "nbformat_minor": 5
}
