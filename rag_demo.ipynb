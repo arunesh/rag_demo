{
 "cells": [
  {
   "cell_type": "code",
   "execution_count": 1,
   "id": "05d9ad1c-a43b-4a83-9e8c-78cdb023897e",
   "metadata": {},
   "outputs": [],
   "source": [
    "# Import necessary libraries\n",
    "from dotenv import load_dotenv\n",
    "from llama_index.core import VectorStoreIndex, SimpleDirectoryReader\n",
    "\n",
    "# Load environment variables\n",
    "load_dotenv()\n",
    "\n",
    "# Load documents from a directory (you can change this path as needed)\n",
    "documents = SimpleDirectoryReader(\"data\").load_data()\n",
    "\n"
   ]
  },
  {
   "cell_type": "code",
   "execution_count": 2,
   "id": "6dea4e30-b2c7-4719-9a2c-c446421e2a32",
   "metadata": {},
   "outputs": [
    {
     "name": "stdout",
     "output_type": "stream",
     "text": [
      "The strategic plan covers the years 2024 to 2028.\n"
     ]
    }
   ],
   "source": [
    "    \n",
    "# Create an index from the documents\n",
    "index = VectorStoreIndex.from_documents(documents)\n",
    "\n",
    "# Create a query engine\n",
    "query_engine = index.as_query_engine()\n",
    "\n",
    "# Example query\n",
    "response = query_engine.query(\"What years does the strategic plan cover?\")\n",
    "\n",
    "print(response)"
   ]
  },
  {
   "cell_type": "code",
   "execution_count": 4,
   "id": "583d3450-8e43-4290-a7f1-ad52b451bcc9",
   "metadata": {},
   "outputs": [
    {
     "name": "stdout",
     "output_type": "stream",
     "text": [
      "The document is the CodePath 2024-28 Strategic Plan, which outlines the organization's goals and strategies for the next few years. It includes pillars focusing on scaling nationally and regionally, improving effectiveness while reducing costs, and developing sustainable revenue sources. The plan also emphasizes measurement, evaluation, and learning, as well as financial and organizational considerations. Additionally, there is an appendix detailing the CodePath Theory of Change.\n"
     ]
    }
   ],
   "source": [
    "print(query_engine.query(\"Summarize the document\"))"
   ]
  },
  {
   "cell_type": "code",
   "execution_count": 5,
   "id": "18740be4-d4f7-47ac-8ef6-097e14c08fb5",
   "metadata": {},
   "outputs": [
    {
     "name": "stdout",
     "output_type": "stream",
     "text": [
      "The document contains various appendices covering topics such as leadership, founding principles, theory of change, revenue sources, partnerships, regional expansion, and finance charts, providing a comprehensive overview of CodePath's strategic plan.\n"
     ]
    }
   ],
   "source": [
    "query=input()\n",
    "print(query_engine.query(query))"
   ]
  },
  {
   "cell_type": "code",
   "execution_count": null,
   "id": "0d9bebab-e4bc-4b35-8e63-e21f1128d51c",
   "metadata": {},
   "outputs": [],
   "source": []
  }
 ],
 "metadata": {
  "kernelspec": {
   "display_name": "Python 3.11.1 ('.venv': venv)",
   "language": "python",
   "name": "python3"
  },
  "language_info": {
   "codemirror_mode": {
    "name": "ipython",
    "version": 3
   },
   "file_extension": ".py",
   "mimetype": "text/x-python",
   "name": "python",
   "nbconvert_exporter": "python",
   "pygments_lexer": "ipython3",
   "version": "3.11.1"
  },
  "vscode": {
   "interpreter": {
    "hash": "3212d0bfa2d5e323371975ed7614dffb19184c0711379dc5f0213552f731b223"
   }
  }
 },
 "nbformat": 4,
 "nbformat_minor": 5
}
